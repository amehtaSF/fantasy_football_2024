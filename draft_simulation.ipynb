{
 "cells": [
  {
   "cell_type": "code",
   "execution_count": 11,
   "metadata": {},
   "outputs": [],
   "source": [
    "import pandas as pd\n",
    "import requests\n",
    "import json\n",
    "from pprint import pprint"
   ]
  },
  {
   "cell_type": "code",
   "execution_count": 38,
   "metadata": {},
   "outputs": [],
   "source": [
    "# League\n",
    "LEAGUE_ID = 1119159922530312192\n",
    "USERS_LEAGUE_URL = \"https://api.sleeper.app/v1/league/{league_id}/users\".format(league_id=LEAGUE_ID)\n",
    "\n",
    "# Get user ids\n",
    "resp = requests.get(USERS_LEAGUE_URL)\n",
    "resp = resp.json()\n",
    "# USER_IDS = {d['display_name']: d['user_id'] for d in resp}\n",
    "USER_IDS = {d['user_id']: d['display_name'] for d in resp}\n",
    "# pprint(USER_IDS)\n",
    "\n",
    "# LEAGUES_USER_URL = \"https://api.sleeper.app/v1/user/{user_id}/leagues/nfl/{season}\"\n",
    "DRAFTS_USER_URL = \"https://api.sleeper.app/v1/user/{user_id}/drafts/nfl/{season}\"\n",
    "USER_DRAFTS = {}\n",
    "for user_id, user in USER_IDS.items():\n",
    "    # print(user)\n",
    "    USER_DRAFTS[user_id] = {}\n",
    "    for season in range(2024, 2010, -1):\n",
    "        # print(season)\n",
    "        resp = requests.get(DRAFTS_USER_URL.format(user_id=user_id, season=season))\n",
    "        assert resp.status_code == 200\n",
    "        resp = resp.json()\n",
    "        if not resp:\n",
    "            break\n",
    "        USER_DRAFTS[user_id][season] = [x[\"draft_id\"] for x in resp]\n",
    "\n",
    "# pprint(USER_LEAGUES)\n",
    "\n"
   ]
  },
  {
   "cell_type": "code",
   "execution_count": 42,
   "metadata": {},
   "outputs": [
    {
     "data": {
      "text/plain": [
       "'735693966296653824'"
      ]
     },
     "execution_count": 42,
     "metadata": {},
     "output_type": "execute_result"
    }
   ],
   "source": [
    "# resp = requests.get(DRAFTS_USER_URL.format(user_id=736001527919079424, season=2023))\n",
    "# print(resp.status_code)\n",
    "# print(resp.json())\n",
    "\n",
    "# pprint(USER_DRAFTS)\n",
    "USER_DRAFTS['722639461619417088'][2021][0]\n"
   ]
  },
  {
   "cell_type": "code",
   "execution_count": null,
   "metadata": {},
   "outputs": [],
   "source": [
    "class DraftStrategy:\n",
    "    \n",
    "    def __init__(self, df_projections):\n",
    "        \n",
    "        self.projections = df_projections\n",
    "    \n",
    "    \n"
   ]
  }
 ],
 "metadata": {
  "kernelspec": {
   "display_name": "venv",
   "language": "python",
   "name": "python3"
  },
  "language_info": {
   "codemirror_mode": {
    "name": "ipython",
    "version": 3
   },
   "file_extension": ".py",
   "mimetype": "text/x-python",
   "name": "python",
   "nbconvert_exporter": "python",
   "pygments_lexer": "ipython3",
   "version": "3.9.6"
  }
 },
 "nbformat": 4,
 "nbformat_minor": 2
}

{
 "cells": [
  {
   "cell_type": "code",
   "execution_count": 128,
   "metadata": {},
   "outputs": [],
   "source": [
    "import pandas as pd\n",
    "from rapidfuzz.process import extractOne\n",
    "import re\n",
    "import os\n",
    "import math\n"
   ]
  },
  {
   "cell_type": "code",
   "execution_count": 129,
   "metadata": {},
   "outputs": [],
   "source": [
    "\n",
    "def load_projections(dir):\n",
    "    positions = [\"QB\", \"RB\", \"WR\", \"TE\", \"K\", \"DEF\"]\n",
    "    dfs = {}\n",
    "    for pos in positions:\n",
    "        file = pos + \"_projections.csv\"\n",
    "        if os.path.exists(os.path.join(dir, file)):\n",
    "            dfs[pos] = pd.read_csv(os.path.join(dir, file))\n",
    "    return dfs"
   ]
  },
  {
   "cell_type": "code",
   "execution_count": 130,
   "metadata": {},
   "outputs": [],
   "source": [
    "df_sleeper = pd.read_csv('data/sleeper/all_players.csv')\n",
    "# print(df_sleeper.columns)\n",
    "# print(df_sleeper[\"full_name\"])\n",
    "\n",
    "dict_sleeper = {\n",
    "    \"QB\": df_sleeper.loc[df_sleeper['position'] == \"QB\"],\n",
    "    \"RB\": df_sleeper.loc[df_sleeper['position'] == \"RB\"],\n",
    "    \"WR\": df_sleeper.loc[df_sleeper['position'] == \"WR\"],\n",
    "    \"TE\": df_sleeper.loc[df_sleeper['position'] == \"TE\"],\n",
    "    \"DEF\": df_sleeper.loc[df_sleeper['position'] == \"DEF\"],\n",
    "    \"K\": df_sleeper.loc[df_sleeper['position'] == \"K\"]\n",
    "}\n",
    "# dict_sleeper[\"QB\"].columns\n",
    "# pos=\"QB\"\n",
    "# dict_sleeper[pos].loc[:,[\"sleeper_id\", \"full_name\", \"team\", \"position\"]]\n"
   ]
  },
  {
   "cell_type": "code",
   "execution_count": 131,
   "metadata": {},
   "outputs": [],
   "source": [
    "\n",
    "# os.listdir(\"data/proj_scrape\")\n",
    "\n",
    "dict_dfs = {\"QB\": [], \"RB\": [], \"WR\": [], \"TE\": [], \"DEF\": [], \"K\": []}\n",
    "\n",
    "dir = \"data/proj_scrape/\"\n",
    "\n",
    "for root, dirs, files in os.walk(dir):\n",
    "    for file in files:\n",
    "        if re.match(r'[A-Z]{1,3}_projections.csv', file):\n",
    "            df = pd.read_csv(os.path.join(root, file))\n",
    "            data_src = re.sub(r'data/proj_scrape/', '', root)\n",
    "            pos = re.sub(r'_projections.csv', '', file)\n",
    "            dict_dfs[pos].append(df)\n",
    "            \n",
    "\n",
    "dict_dfs = {k: pd.concat(v).reset_index(drop=True) for k, v in dict_dfs.items()}\n",
    "\n",
    "for pos, df in dict_dfs.items():\n",
    "    # print(pos)\n",
    "    df[\"name_match\"] = df[\"player\"].apply(lambda x: extractOne(x, dict_sleeper[pos][\"full_name\"], score_cutoff=80))\n",
    "    df[\"src_player_name\"] = df[\"player\"]\n",
    "    df[\"sleeper_row\"] = df[\"name_match\"].apply(lambda x: x[2] if x else None)\n",
    "    # add sleeper_id to each df in dict_dfs\n",
    "    df[\"sleeper_id\"] = df[\"sleeper_row\"].apply(lambda x: dict_sleeper[pos].loc[x, \"player_id\"] if x and not math.isnan(x) else None)\n",
    "    # print(df.columns)\n",
    "    df = df.drop(columns=[\"name_match\", \"sleeper_row\", \"player\", \"team\", \"pos\"])\n",
    "    tmp_slpr = dict_sleeper[pos].loc[:, [\"sleeper_id\", \"full_name\", \"team\", \"position\"]]\n",
    "    tmp_slpr[\"sleeper_id\"] = tmp_slpr[\"sleeper_id\"].astype(str).apply(lambda x: re.sub(r'\\.0', '', x))\n",
    "    df[\"sleeper_id\"] = df[\"sleeper_id\"].astype(str).apply(lambda x: re.sub(r'\\.0', '', x))\n",
    "    df = df.merge(tmp_slpr, on=\"sleeper_id\", how=\"inner\")\n",
    "    df.to_csv(f\"data/projections/{pos}_projections.csv\", index=False)\n",
    "    "
   ]
  },
  {
   "cell_type": "code",
   "execution_count": 125,
   "metadata": {},
   "outputs": [
    {
     "data": {
      "text/plain": [
       "(871, 33)"
      ]
     },
     "execution_count": 125,
     "metadata": {},
     "output_type": "execute_result"
    }
   ],
   "source": [
    "dict_dfs[\"WR\"].shape"
   ]
  },
  {
   "cell_type": "code",
   "execution_count": 126,
   "metadata": {},
   "outputs": [],
   "source": [
    "df_mean_var = pd.read_csv('data/nflverse/mean_var_weekly_fp.csv')\n",
    "dict_dfs_update = {}\n",
    "for pos, df in dict_dfs.items():\n",
    "    df = df.loc[:, [\"sleeper_id\", \"player\", \"pos\"]]\n",
    "    df[\"name_match_idx\"] = df[\"player\"].apply(lambda x: extractOne(x, df_mean_var[\"player_display_name\"], score_cutoff=80))\n",
    "    df[\"name_match_idx\"] = df[\"name_match_idx\"].apply(lambda x: x[2] if x else None)\n",
    "    dict_dfs_update[pos] = df.merge(df_mean_var, left_on=\"name_match_idx\", right_index=True, how=\"inner\")\n",
    "    "
   ]
  },
  {
   "cell_type": "code",
   "execution_count": 127,
   "metadata": {},
   "outputs": [],
   "source": [
    "dict_dfs_update[\"QB\"].to_csv(\"data/nflverse/qb_mean_var.csv\", index=False)\n",
    "dict_dfs_update[\"RB\"].to_csv(\"data/nflverse/rb_mean_var.csv\", index=False)\n",
    "dict_dfs_update[\"WR\"].to_csv(\"data/nflverse/wr_mean_var.csv\", index=False)\n",
    "dict_dfs_update[\"TE\"].to_csv(\"data/nflverse/te_mean_var.csv\", index=False)\n",
    "dict_dfs_update[\"DEF\"].to_csv(\"data/nflverse/def_mean_var.csv\", index=False)\n",
    "dict_dfs_update[\"K\"].to_csv(\"data/nflverse/k_mean_var.csv\", index=False)"
   ]
  },
  {
   "cell_type": "code",
   "execution_count": 29,
   "metadata": {},
   "outputs": [
    {
     "name": "stdout",
     "output_type": "stream",
     "text": [
      "Downcasting floats.\n"
     ]
    }
   ],
   "source": [
    "# import nfl_data_py as nfl\n",
    "\n",
    "# df_weekly = nfl.import_weekly_data([2021, 2022, 2023])\n",
    "# df_weekly['fantasy_points_halfppr'] = df_weekly['fantasy_points_ppr'] - .5*df_weekly['receptions']"
   ]
  },
  {
   "cell_type": "code",
   "execution_count": 34,
   "metadata": {},
   "outputs": [
    {
     "data": {
      "text/plain": [
       "Index(['player_id', 'player_display_name', 'season', 'week', 'position',\n",
       "       'fantasy_points_halfppr'],\n",
       "      dtype='object')"
      ]
     },
     "execution_count": 34,
     "metadata": {},
     "output_type": "execute_result"
    }
   ],
   "source": [
    "# df_weekly = df_weekly.loc[:, [\"player_id\", \"player_display_name\", \"season\", \"week\", \"position\", \"fantasy_points_halfppr\"]]\n",
    "# df_weekly.columns"
   ]
  },
  {
   "cell_type": "code",
   "execution_count": 28,
   "metadata": {},
   "outputs": [
    {
     "data": {
      "text/plain": [
       "player_display_name  player_id   season  week\n",
       "A.J. Brown           00-0035676  2021    1       1\n",
       "                                         2       1\n",
       "                                         3       1\n",
       "                                         5       1\n",
       "                                         6       1\n",
       "                                                ..\n",
       "Zonovan Knight       00-0037157  2022    16      1\n",
       "                                         17      1\n",
       "                                         18      1\n",
       "                                 2023    3       1\n",
       "                                         5       1\n",
       "Name: player_name, Length: 16982, dtype: int64"
      ]
     },
     "execution_count": 28,
     "metadata": {},
     "output_type": "execute_result"
    }
   ],
   "source": [
    "# df_weekly.groupby([\"player_display_name\", \"player_id\", \"season\", \"week\"]).count()['player_name']"
   ]
  },
  {
   "cell_type": "code",
   "execution_count": 45,
   "metadata": {},
   "outputs": [
    {
     "name": "stdout",
     "output_type": "stream",
     "text": [
      "(2077, 6)\n",
      "(4269, 6)\n",
      "(6878, 6)\n",
      "(3337, 6)\n",
      "(0, 6)\n",
      "(1, 6)\n"
     ]
    }
   ],
   "source": [
    "\n",
    "# # os.listdir(\"data/proj_scrape\")\n",
    "\n",
    "# dict_dfs = {\"QB\": [], \"RB\": [], \"WR\": [], \"TE\": [], \"DEF\": [], \"K\": []}\n",
    "\n",
    "# dir = \"data/projections/\"\n",
    "\n",
    "# for root, dirs, files in os.walk(dir):\n",
    "#     for file in files:\n",
    "#         if re.match(r'[A-Z]{1,3}_projections.csv', file):\n",
    "#             df = pd.read_csv(os.path.join(root, file))\n",
    "#             data_src = re.sub(r'data/proj_scrape/', '', root)\n",
    "#             pos = re.sub(r'_projections.csv', '', file)\n",
    "#             dict_dfs[pos].append(df)\n",
    "            \n",
    "\n",
    "# dict_dfs = {k: pd.concat(v).reset_index(drop=True) for k, v in dict_dfs.items()}\n",
    "\n",
    "\n",
    "# for pos, df in dict_dfs.items():\n",
    "# #     # print(pos)\n",
    "#     df_weekly_pos = df_weekly.loc[df_weekly[\"position\"] == pos]\n",
    "#     print(df_weekly_pos.shape)\n",
    "#     df[\"name_match\"] = df[\"full_name\"].apply(lambda x: extractOne(x, df_weekly_pos['player_display_name'], score_cutoff=80))\n",
    "#     # df[\"src_player_name\"] = df[\"full_name\"]\n",
    "#     df[\"nflverse_row\"] = df[\"name_match\"].apply(lambda x: int(x[2]) if x else None)\n",
    "#     df = df.merge(df_weekly_pos, left_on=\"nflverse_row\", right_index=True, how=\"left\")\n",
    "# #     # add sleeper_id to each df in dict_dfs\n",
    "#     # df[\"sleeper_id\"] = df[\"sleeper_row\"].apply(lambda x: dict_sleeper[pos].loc[x, \"player_id\"] if x and not math.isnan(x) else None)\n",
    "# #     # print(df.columns)\n",
    "# #     df = df.drop(columns=[\"name_match\", \"sleeper_row\", \"player\", \"team\", \"pos\"])\n",
    "# #     tmp_slpr = dict_sleeper[pos].loc[:, [\"sleeper_id\", \"full_name\", \"team\", \"position\"]]\n",
    "# #     tmp_slpr[\"sleeper_id\"] = tmp_slpr[\"sleeper_id\"].astype(str).apply(lambda x: re.sub(r'\\.0', '', x))\n",
    "# #     df[\"sleeper_id\"] = df[\"sleeper_id\"].astype(str).apply(lambda x: re.sub(r'\\.0', '', x))\n",
    "# #     df = df.merge(tmp_slpr, on=\"sleeper_id\", how=\"inner\")\n",
    "# #     df.to_csv(f\"data/projections/{pos}_projections.csv\", index=False)\n",
    "    "
   ]
  }
 ],
 "metadata": {
  "kernelspec": {
   "display_name": "venv",
   "language": "python",
   "name": "python3"
  },
  "language_info": {
   "codemirror_mode": {
    "name": "ipython",
    "version": 3
   },
   "file_extension": ".py",
   "mimetype": "text/x-python",
   "name": "python",
   "nbconvert_exporter": "python",
   "pygments_lexer": "ipython3",
   "version": "3.9.6"
  }
 },
 "nbformat": 4,
 "nbformat_minor": 2
}

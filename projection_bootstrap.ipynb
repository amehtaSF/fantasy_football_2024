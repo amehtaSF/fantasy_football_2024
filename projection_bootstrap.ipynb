{
 "cells": [
  {
   "cell_type": "code",
   "execution_count": 85,
   "metadata": {},
   "outputs": [],
   "source": [
    "import os\n",
    "import pandas as pd\n",
    "import json\n",
    "import numpy as np\n",
    "import matplotlib.pyplot as plt\n",
    "import warnings\n",
    "\n",
    "import utils"
   ]
  },
  {
   "cell_type": "code",
   "execution_count": 24,
   "metadata": {},
   "outputs": [],
   "source": [
    "scoring = {\n",
    "    'pass_yd': .04,\n",
    "    'pass_td': 4,\n",
    "    'pass_2pt': 2,\n",
    "    'pass_int': -1,\n",
    "    'rush_yd': .1,\n",
    "    'rush_td': 6,\n",
    "    'rush_2pt': 2,\n",
    "    'rec_rcpt': .5,\n",
    "    'rec_yd': .1,\n",
    "    'rec_td': 6,\n",
    "    'rec_2pt': 2,\n",
    "    'remainder': 1\n",
    "}"
   ]
  },
  {
   "cell_type": "code",
   "execution_count": 72,
   "metadata": {},
   "outputs": [],
   "source": [
    "\n",
    "# def sample_fp(df):\n",
    "#     '''\n",
    "#     takes a long dataframe with id column called sleeper_id, 1 kind of stat per row, and a value column\n",
    "#     the input dataframe should have stats from multiple sources\n",
    "#     this function will sample 1 stat of each type per player and compute the fpts\n",
    "#     '''\n",
    "#     df = df.groupby([\"sleeper_id\", \"stat\"]).apply(lambda x: x.sample(1)).reset_index(drop=True)\n",
    "#     # compute the new fpts for each sleeper_id\n",
    "#     df[\"fpts\"] = df.apply(lambda x: x[\"value\"]*scoring[x[\"stat\"]], axis=1)\n",
    "#     # summarize the fpts for each sleeper_id\n",
    "#     df = df.groupby(\"sleeper_id\").agg({\"fpts\": \"sum\"}).reset_index()\n",
    "#     return df\n",
    "\n",
    "def sample_fp(df):\n",
    "    '''\n",
    "    takes a long dataframe with id column called sleeper_id, 1 kind of stat per row, and a value column\n",
    "    the input dataframe should have stats from multiple sources\n",
    "    this function will sample 1 stat of each type per player and compute the fpts\n",
    "    '''\n",
    "    with warnings.catch_warnings():\n",
    "        warnings.filterwarnings(\"ignore\", category=DeprecationWarning)\n",
    "        df = df.groupby([\"sleeper_id\", \"stat\"]).apply(lambda x: x.sample(1))[df.columns].reset_index(drop=True)\n",
    "    # Compute the new fpts for each sleeper_id\n",
    "    df[\"fpts\"] = df.apply(lambda x: x[\"value\"] * scoring[x[\"stat\"]], axis=1)\n",
    "    # Summarize the fpts for each sleeper_id\n",
    "    df = df.groupby(\"sleeper_id\").agg({\"fpts\": \"sum\"}).reset_index()\n",
    "    return df"
   ]
  },
  {
   "cell_type": "code",
   "execution_count": 88,
   "metadata": {},
   "outputs": [],
   "source": [
    "\n",
    "df_sleeper = pd.read_csv(\"data/sleeper/all_players.csv\")\n",
    "\n",
    "dict_projections = utils.load_projections(\"data/projections\")\n",
    "list(dict_projections.keys())\n",
    "dict_projections[\"K\"] = pd.read_csv(\"data/projections/K_projections.csv\")\n"
   ]
  },
  {
   "cell_type": "code",
   "execution_count": 73,
   "metadata": {},
   "outputs": [],
   "source": [
    "\n",
    "\n",
    "df_qb = dict_projections[\"QB\"].loc[:, [\"sleeper_id\", \"pass_yd\", \"pass_td\", \"pass_int\", \"rush_yd\", \"rush_td\", \"fpts\"]]\n",
    "df_qb = df_qb.apply(pd.to_numeric, errors='coerce')\n",
    "df_qb[\"remainder\"] = df_qb[\"fpts\"] - (df_qb[\"pass_yd\"]*scoring[\"pass_yd\"] + \\\n",
    "    df_qb[\"pass_td\"]*scoring[\"pass_td\"] + df_qb[\"pass_int\"]*scoring[\"pass_int\"] + \\\n",
    "        df_qb[\"rush_yd\"]*scoring[\"rush_yd\"] + df_qb[\"rush_td\"]*scoring[\"rush_td\"])\n",
    "df_qb = df_qb.drop(columns=[\"fpts\"])\n",
    "# pivot longer\n",
    "df_qb = df_qb.melt(id_vars=[\"sleeper_id\"], var_name=\"stat\", value_name=\"value\")\n",
    "df_qb_samples = pd.concat([sample_fp(df_qb) for _ in range(5000)])\n",
    "\n",
    "# re-add the player name, team, and position\n",
    "df_qb_samples = df_qb_samples.merge(df_sleeper.loc[:, [\"sleeper_id\", \"full_name\", \"team\", \"position\"]], on=\"sleeper_id\")\n",
    "\n",
    "df_qb_samples.to_csv(\"data/proj_bootstrap/qb_proj_resamples.csv\", index=False)"
   ]
  },
  {
   "cell_type": "code",
   "execution_count": 74,
   "metadata": {},
   "outputs": [],
   "source": [
    "\n",
    "df_rb = dict_projections[\"RB\"].loc[:, [\"sleeper_id\", \"rush_yd\", \"rush_td\", \"rec_rcpt\", \"rec_yd\", \"rec_td\", \"fpts\"]]\n",
    "df_rb = df_rb.apply(pd.to_numeric, errors='coerce')\n",
    "df_rb[\"remainder\"] = df_rb[\"fpts\"] - (df_rb[\"rush_yd\"]*scoring[\"rush_yd\"] + \\\n",
    "    df_rb[\"rush_td\"]*scoring[\"rush_td\"] + df_rb[\"rec_rcpt\"]*scoring[\"rec_rcpt\"] + \\\n",
    "        df_rb[\"rec_yd\"]*scoring[\"rec_yd\"] + df_rb[\"rec_td\"]*scoring[\"rec_td\"])\n",
    "df_rb = df_rb.drop(columns=[\"fpts\"])\n",
    "# pivot longer\n",
    "df_rb = df_rb.melt(id_vars=[\"sleeper_id\"], var_name=\"stat\", value_name=\"value\")\n",
    "df_rb_samples = pd.concat([sample_fp(df_rb) for _ in range(5000)])\n",
    "\n",
    "# re-add the player name, team, and position\n",
    "df_rb_samples = df_rb_samples.merge(df_sleeper.loc[:, [\"sleeper_id\", \"full_name\", \"team\", \"position\"]], on=\"sleeper_id\")\n",
    "\n",
    "df_rb_samples.to_csv(\"data/proj_bootstrap/rb_proj_resamples.csv\", index=False)\n"
   ]
  },
  {
   "cell_type": "code",
   "execution_count": 75,
   "metadata": {},
   "outputs": [
    {
     "name": "stderr",
     "output_type": "stream",
     "text": [
      "Exception ignored in: <bound method IPythonKernel._clean_thread_parent_frames of <ipykernel.ipkernel.IPythonKernel object at 0x110a24c40>>\n",
      "Traceback (most recent call last):\n",
      "  File \"/Users/ashish/files/fun_projects/fantasy_football_2024/venv/lib/python3.9/site-packages/ipykernel/ipkernel.py\", line 775, in _clean_thread_parent_frames\n",
      "    def _clean_thread_parent_frames(\n",
      "KeyboardInterrupt: \n"
     ]
    }
   ],
   "source": [
    "df_wr = dict_projections[\"WR\"].loc[:, [\"sleeper_id\", \"rush_yd\", \"rush_td\", \"rec_rcpt\", \"rec_yd\", \"rec_td\", \"fpts\"]]\n",
    "df_wr = df_wr.apply(pd.to_numeric, errors='coerce')\n",
    "df_wr[\"remainder\"] = df_wr[\"fpts\"] - (df_wr[\"rush_yd\"]*scoring[\"rush_yd\"] + \\\n",
    "    df_wr[\"rush_td\"]*scoring[\"rush_td\"] + df_wr[\"rec_rcpt\"]*scoring[\"rec_rcpt\"] + \\\n",
    "        df_wr[\"rec_yd\"]*scoring[\"rec_yd\"] + df_wr[\"rec_td\"]*scoring[\"rec_td\"])\n",
    "df_wr = df_wr.drop(columns=[\"fpts\"])\n",
    "# pivot longer\n",
    "df_wr = df_wr.melt(id_vars=[\"sleeper_id\"], var_name=\"stat\", value_name=\"value\")\n",
    "df_wr_samples = pd.concat([sample_fp(df_wr) for _ in range(5000)])\n",
    "\n",
    "# re-add the player name, team, and position\n",
    "df_wr_samples = df_wr_samples.merge(df_sleeper.loc[:, [\"sleeper_id\", \"full_name\", \"team\", \"position\"]], on=\"sleeper_id\")\n",
    "\n",
    "df_wr_samples.to_csv(\"data/proj_bootstrap/wr_proj_resamples.csv\", index=False)\n"
   ]
  },
  {
   "cell_type": "code",
   "execution_count": 77,
   "metadata": {},
   "outputs": [],
   "source": [
    "df_te = dict_projections[\"TE\"].loc[:, [\"sleeper_id\", \"rush_yd\", \"rush_td\", \"rec_rcpt\", \"rec_yd\", \"rec_td\", \"fpts\"]]\n",
    "df_te = df_te.apply(pd.to_numeric, errors='coerce')\n",
    "df_te[\"remainder\"] = df_te[\"fpts\"] - (df_te[\"rush_yd\"]*scoring[\"rush_yd\"] + \\\n",
    "    df_te[\"rush_td\"]*scoring[\"rush_td\"] + df_te[\"rec_rcpt\"]*scoring[\"rec_rcpt\"] + \\\n",
    "        df_te[\"rec_yd\"]*scoring[\"rec_yd\"] + df_te[\"rec_td\"]*scoring[\"rec_td\"])\n",
    "df_te = df_te.drop(columns=[\"fpts\"])\n",
    "# pivot longer\n",
    "df_te = df_te.melt(id_vars=[\"sleeper_id\"], var_name=\"stat\", value_name=\"value\")\n",
    "df_te_samples = pd.concat([sample_fp(df_te) for _ in range(5000)])\n",
    "\n",
    "# re-add the player name, team, and position\n",
    "df_te_samples = df_te_samples.merge(df_sleeper.loc[:, [\"sleeper_id\", \"full_name\", \"team\", \"position\"]], on=\"sleeper_id\")\n",
    "\n",
    "df_te_samples.to_csv(\"data/proj_bootstrap/te_proj_resamples.csv\", index=False)\n"
   ]
  },
  {
   "cell_type": "code",
   "execution_count": 89,
   "metadata": {},
   "outputs": [
    {
     "ename": "KeyError",
     "evalue": "'stat'",
     "output_type": "error",
     "traceback": [
      "\u001b[0;31m---------------------------------------------------------------------------\u001b[0m",
      "\u001b[0;31mKeyError\u001b[0m                                  Traceback (most recent call last)",
      "Cell \u001b[0;32mIn[89], line 3\u001b[0m\n\u001b[1;32m      1\u001b[0m df_k \u001b[38;5;241m=\u001b[39m dict_projections[\u001b[38;5;124m\"\u001b[39m\u001b[38;5;124mK\u001b[39m\u001b[38;5;124m\"\u001b[39m]\u001b[38;5;241m.\u001b[39mloc[:, [\u001b[38;5;124m\"\u001b[39m\u001b[38;5;124msleeper_id\u001b[39m\u001b[38;5;124m\"\u001b[39m, \u001b[38;5;124m\"\u001b[39m\u001b[38;5;124mfpts\u001b[39m\u001b[38;5;124m\"\u001b[39m]]\n\u001b[1;32m      2\u001b[0m df_k \u001b[38;5;241m=\u001b[39m df_k\u001b[38;5;241m.\u001b[39mapply(pd\u001b[38;5;241m.\u001b[39mto_numeric, errors\u001b[38;5;241m=\u001b[39m\u001b[38;5;124m'\u001b[39m\u001b[38;5;124mcoerce\u001b[39m\u001b[38;5;124m'\u001b[39m)\n\u001b[0;32m----> 3\u001b[0m df_k_samples \u001b[38;5;241m=\u001b[39m pd\u001b[38;5;241m.\u001b[39mconcat([sample_fp(df_k) \u001b[38;5;28;01mfor\u001b[39;00m _ \u001b[38;5;129;01min\u001b[39;00m \u001b[38;5;28mrange\u001b[39m(\u001b[38;5;241m5000\u001b[39m)])\n\u001b[1;32m      5\u001b[0m \u001b[38;5;66;03m# re-add the player name, team, and position\u001b[39;00m\n\u001b[1;32m      6\u001b[0m df_k_samples \u001b[38;5;241m=\u001b[39m df_k_samples\u001b[38;5;241m.\u001b[39mmerge(df_sleeper\u001b[38;5;241m.\u001b[39mloc[:, [\u001b[38;5;124m\"\u001b[39m\u001b[38;5;124msleeper_id\u001b[39m\u001b[38;5;124m\"\u001b[39m, \u001b[38;5;124m\"\u001b[39m\u001b[38;5;124mfull_name\u001b[39m\u001b[38;5;124m\"\u001b[39m, \u001b[38;5;124m\"\u001b[39m\u001b[38;5;124mteam\u001b[39m\u001b[38;5;124m\"\u001b[39m, \u001b[38;5;124m\"\u001b[39m\u001b[38;5;124mposition\u001b[39m\u001b[38;5;124m\"\u001b[39m]], on\u001b[38;5;241m=\u001b[39m\u001b[38;5;124m\"\u001b[39m\u001b[38;5;124msleeper_id\u001b[39m\u001b[38;5;124m\"\u001b[39m)\n",
      "Cell \u001b[0;32mIn[89], line 3\u001b[0m, in \u001b[0;36m<listcomp>\u001b[0;34m(.0)\u001b[0m\n\u001b[1;32m      1\u001b[0m df_k \u001b[38;5;241m=\u001b[39m dict_projections[\u001b[38;5;124m\"\u001b[39m\u001b[38;5;124mK\u001b[39m\u001b[38;5;124m\"\u001b[39m]\u001b[38;5;241m.\u001b[39mloc[:, [\u001b[38;5;124m\"\u001b[39m\u001b[38;5;124msleeper_id\u001b[39m\u001b[38;5;124m\"\u001b[39m, \u001b[38;5;124m\"\u001b[39m\u001b[38;5;124mfpts\u001b[39m\u001b[38;5;124m\"\u001b[39m]]\n\u001b[1;32m      2\u001b[0m df_k \u001b[38;5;241m=\u001b[39m df_k\u001b[38;5;241m.\u001b[39mapply(pd\u001b[38;5;241m.\u001b[39mto_numeric, errors\u001b[38;5;241m=\u001b[39m\u001b[38;5;124m'\u001b[39m\u001b[38;5;124mcoerce\u001b[39m\u001b[38;5;124m'\u001b[39m)\n\u001b[0;32m----> 3\u001b[0m df_k_samples \u001b[38;5;241m=\u001b[39m pd\u001b[38;5;241m.\u001b[39mconcat([\u001b[43msample_fp\u001b[49m\u001b[43m(\u001b[49m\u001b[43mdf_k\u001b[49m\u001b[43m)\u001b[49m \u001b[38;5;28;01mfor\u001b[39;00m _ \u001b[38;5;129;01min\u001b[39;00m \u001b[38;5;28mrange\u001b[39m(\u001b[38;5;241m5000\u001b[39m)])\n\u001b[1;32m      5\u001b[0m \u001b[38;5;66;03m# re-add the player name, team, and position\u001b[39;00m\n\u001b[1;32m      6\u001b[0m df_k_samples \u001b[38;5;241m=\u001b[39m df_k_samples\u001b[38;5;241m.\u001b[39mmerge(df_sleeper\u001b[38;5;241m.\u001b[39mloc[:, [\u001b[38;5;124m\"\u001b[39m\u001b[38;5;124msleeper_id\u001b[39m\u001b[38;5;124m\"\u001b[39m, \u001b[38;5;124m\"\u001b[39m\u001b[38;5;124mfull_name\u001b[39m\u001b[38;5;124m\"\u001b[39m, \u001b[38;5;124m\"\u001b[39m\u001b[38;5;124mteam\u001b[39m\u001b[38;5;124m\"\u001b[39m, \u001b[38;5;124m\"\u001b[39m\u001b[38;5;124mposition\u001b[39m\u001b[38;5;124m\"\u001b[39m]], on\u001b[38;5;241m=\u001b[39m\u001b[38;5;124m\"\u001b[39m\u001b[38;5;124msleeper_id\u001b[39m\u001b[38;5;124m\"\u001b[39m)\n",
      "Cell \u001b[0;32mIn[72], line 22\u001b[0m, in \u001b[0;36msample_fp\u001b[0;34m(df)\u001b[0m\n\u001b[1;32m     20\u001b[0m \u001b[38;5;28;01mwith\u001b[39;00m warnings\u001b[38;5;241m.\u001b[39mcatch_warnings():\n\u001b[1;32m     21\u001b[0m     warnings\u001b[38;5;241m.\u001b[39mfilterwarnings(\u001b[38;5;124m\"\u001b[39m\u001b[38;5;124mignore\u001b[39m\u001b[38;5;124m\"\u001b[39m, category\u001b[38;5;241m=\u001b[39m\u001b[38;5;167;01mDeprecationWarning\u001b[39;00m)\n\u001b[0;32m---> 22\u001b[0m     df \u001b[38;5;241m=\u001b[39m \u001b[43mdf\u001b[49m\u001b[38;5;241;43m.\u001b[39;49m\u001b[43mgroupby\u001b[49m\u001b[43m(\u001b[49m\u001b[43m[\u001b[49m\u001b[38;5;124;43m\"\u001b[39;49m\u001b[38;5;124;43msleeper_id\u001b[39;49m\u001b[38;5;124;43m\"\u001b[39;49m\u001b[43m,\u001b[49m\u001b[43m \u001b[49m\u001b[38;5;124;43m\"\u001b[39;49m\u001b[38;5;124;43mstat\u001b[39;49m\u001b[38;5;124;43m\"\u001b[39;49m\u001b[43m]\u001b[49m\u001b[43m)\u001b[49m\u001b[38;5;241m.\u001b[39mapply(\u001b[38;5;28;01mlambda\u001b[39;00m x: x\u001b[38;5;241m.\u001b[39msample(\u001b[38;5;241m1\u001b[39m))[df\u001b[38;5;241m.\u001b[39mcolumns]\u001b[38;5;241m.\u001b[39mreset_index(drop\u001b[38;5;241m=\u001b[39m\u001b[38;5;28;01mTrue\u001b[39;00m)\n\u001b[1;32m     23\u001b[0m \u001b[38;5;66;03m# Compute the new fpts for each sleeper_id\u001b[39;00m\n\u001b[1;32m     24\u001b[0m df[\u001b[38;5;124m\"\u001b[39m\u001b[38;5;124mfpts\u001b[39m\u001b[38;5;124m\"\u001b[39m] \u001b[38;5;241m=\u001b[39m df\u001b[38;5;241m.\u001b[39mapply(\u001b[38;5;28;01mlambda\u001b[39;00m x: x[\u001b[38;5;124m\"\u001b[39m\u001b[38;5;124mvalue\u001b[39m\u001b[38;5;124m\"\u001b[39m] \u001b[38;5;241m*\u001b[39m scoring[x[\u001b[38;5;124m\"\u001b[39m\u001b[38;5;124mstat\u001b[39m\u001b[38;5;124m\"\u001b[39m]], axis\u001b[38;5;241m=\u001b[39m\u001b[38;5;241m1\u001b[39m)\n",
      "File \u001b[0;32m~/files/fun_projects/fantasy_football_2024/venv/lib/python3.9/site-packages/pandas/core/frame.py:9183\u001b[0m, in \u001b[0;36mDataFrame.groupby\u001b[0;34m(self, by, axis, level, as_index, sort, group_keys, observed, dropna)\u001b[0m\n\u001b[1;32m   9180\u001b[0m \u001b[38;5;28;01mif\u001b[39;00m level \u001b[38;5;129;01mis\u001b[39;00m \u001b[38;5;28;01mNone\u001b[39;00m \u001b[38;5;129;01mand\u001b[39;00m by \u001b[38;5;129;01mis\u001b[39;00m \u001b[38;5;28;01mNone\u001b[39;00m:\n\u001b[1;32m   9181\u001b[0m     \u001b[38;5;28;01mraise\u001b[39;00m \u001b[38;5;167;01mTypeError\u001b[39;00m(\u001b[38;5;124m\"\u001b[39m\u001b[38;5;124mYou have to supply one of \u001b[39m\u001b[38;5;124m'\u001b[39m\u001b[38;5;124mby\u001b[39m\u001b[38;5;124m'\u001b[39m\u001b[38;5;124m and \u001b[39m\u001b[38;5;124m'\u001b[39m\u001b[38;5;124mlevel\u001b[39m\u001b[38;5;124m'\u001b[39m\u001b[38;5;124m\"\u001b[39m)\n\u001b[0;32m-> 9183\u001b[0m \u001b[38;5;28;01mreturn\u001b[39;00m \u001b[43mDataFrameGroupBy\u001b[49m\u001b[43m(\u001b[49m\n\u001b[1;32m   9184\u001b[0m \u001b[43m    \u001b[49m\u001b[43mobj\u001b[49m\u001b[38;5;241;43m=\u001b[39;49m\u001b[38;5;28;43mself\u001b[39;49m\u001b[43m,\u001b[49m\n\u001b[1;32m   9185\u001b[0m \u001b[43m    \u001b[49m\u001b[43mkeys\u001b[49m\u001b[38;5;241;43m=\u001b[39;49m\u001b[43mby\u001b[49m\u001b[43m,\u001b[49m\n\u001b[1;32m   9186\u001b[0m \u001b[43m    \u001b[49m\u001b[43maxis\u001b[49m\u001b[38;5;241;43m=\u001b[39;49m\u001b[43maxis\u001b[49m\u001b[43m,\u001b[49m\n\u001b[1;32m   9187\u001b[0m \u001b[43m    \u001b[49m\u001b[43mlevel\u001b[49m\u001b[38;5;241;43m=\u001b[39;49m\u001b[43mlevel\u001b[49m\u001b[43m,\u001b[49m\n\u001b[1;32m   9188\u001b[0m \u001b[43m    \u001b[49m\u001b[43mas_index\u001b[49m\u001b[38;5;241;43m=\u001b[39;49m\u001b[43mas_index\u001b[49m\u001b[43m,\u001b[49m\n\u001b[1;32m   9189\u001b[0m \u001b[43m    \u001b[49m\u001b[43msort\u001b[49m\u001b[38;5;241;43m=\u001b[39;49m\u001b[43msort\u001b[49m\u001b[43m,\u001b[49m\n\u001b[1;32m   9190\u001b[0m \u001b[43m    \u001b[49m\u001b[43mgroup_keys\u001b[49m\u001b[38;5;241;43m=\u001b[39;49m\u001b[43mgroup_keys\u001b[49m\u001b[43m,\u001b[49m\n\u001b[1;32m   9191\u001b[0m \u001b[43m    \u001b[49m\u001b[43mobserved\u001b[49m\u001b[38;5;241;43m=\u001b[39;49m\u001b[43mobserved\u001b[49m\u001b[43m,\u001b[49m\n\u001b[1;32m   9192\u001b[0m \u001b[43m    \u001b[49m\u001b[43mdropna\u001b[49m\u001b[38;5;241;43m=\u001b[39;49m\u001b[43mdropna\u001b[49m\u001b[43m,\u001b[49m\n\u001b[1;32m   9193\u001b[0m \u001b[43m\u001b[49m\u001b[43m)\u001b[49m\n",
      "File \u001b[0;32m~/files/fun_projects/fantasy_football_2024/venv/lib/python3.9/site-packages/pandas/core/groupby/groupby.py:1329\u001b[0m, in \u001b[0;36mGroupBy.__init__\u001b[0;34m(self, obj, keys, axis, level, grouper, exclusions, selection, as_index, sort, group_keys, observed, dropna)\u001b[0m\n\u001b[1;32m   1326\u001b[0m \u001b[38;5;28mself\u001b[39m\u001b[38;5;241m.\u001b[39mdropna \u001b[38;5;241m=\u001b[39m dropna\n\u001b[1;32m   1328\u001b[0m \u001b[38;5;28;01mif\u001b[39;00m grouper \u001b[38;5;129;01mis\u001b[39;00m \u001b[38;5;28;01mNone\u001b[39;00m:\n\u001b[0;32m-> 1329\u001b[0m     grouper, exclusions, obj \u001b[38;5;241m=\u001b[39m \u001b[43mget_grouper\u001b[49m\u001b[43m(\u001b[49m\n\u001b[1;32m   1330\u001b[0m \u001b[43m        \u001b[49m\u001b[43mobj\u001b[49m\u001b[43m,\u001b[49m\n\u001b[1;32m   1331\u001b[0m \u001b[43m        \u001b[49m\u001b[43mkeys\u001b[49m\u001b[43m,\u001b[49m\n\u001b[1;32m   1332\u001b[0m \u001b[43m        \u001b[49m\u001b[43maxis\u001b[49m\u001b[38;5;241;43m=\u001b[39;49m\u001b[43maxis\u001b[49m\u001b[43m,\u001b[49m\n\u001b[1;32m   1333\u001b[0m \u001b[43m        \u001b[49m\u001b[43mlevel\u001b[49m\u001b[38;5;241;43m=\u001b[39;49m\u001b[43mlevel\u001b[49m\u001b[43m,\u001b[49m\n\u001b[1;32m   1334\u001b[0m \u001b[43m        \u001b[49m\u001b[43msort\u001b[49m\u001b[38;5;241;43m=\u001b[39;49m\u001b[43msort\u001b[49m\u001b[43m,\u001b[49m\n\u001b[1;32m   1335\u001b[0m \u001b[43m        \u001b[49m\u001b[43mobserved\u001b[49m\u001b[38;5;241;43m=\u001b[39;49m\u001b[38;5;28;43;01mFalse\u001b[39;49;00m\u001b[43m \u001b[49m\u001b[38;5;28;43;01mif\u001b[39;49;00m\u001b[43m \u001b[49m\u001b[43mobserved\u001b[49m\u001b[43m \u001b[49m\u001b[38;5;129;43;01mis\u001b[39;49;00m\u001b[43m \u001b[49m\u001b[43mlib\u001b[49m\u001b[38;5;241;43m.\u001b[39;49m\u001b[43mno_default\u001b[49m\u001b[43m \u001b[49m\u001b[38;5;28;43;01melse\u001b[39;49;00m\u001b[43m \u001b[49m\u001b[43mobserved\u001b[49m\u001b[43m,\u001b[49m\n\u001b[1;32m   1336\u001b[0m \u001b[43m        \u001b[49m\u001b[43mdropna\u001b[49m\u001b[38;5;241;43m=\u001b[39;49m\u001b[38;5;28;43mself\u001b[39;49m\u001b[38;5;241;43m.\u001b[39;49m\u001b[43mdropna\u001b[49m\u001b[43m,\u001b[49m\n\u001b[1;32m   1337\u001b[0m \u001b[43m    \u001b[49m\u001b[43m)\u001b[49m\n\u001b[1;32m   1339\u001b[0m \u001b[38;5;28;01mif\u001b[39;00m observed \u001b[38;5;129;01mis\u001b[39;00m lib\u001b[38;5;241m.\u001b[39mno_default:\n\u001b[1;32m   1340\u001b[0m     \u001b[38;5;28;01mif\u001b[39;00m \u001b[38;5;28many\u001b[39m(ping\u001b[38;5;241m.\u001b[39m_passed_categorical \u001b[38;5;28;01mfor\u001b[39;00m ping \u001b[38;5;129;01min\u001b[39;00m grouper\u001b[38;5;241m.\u001b[39mgroupings):\n",
      "File \u001b[0;32m~/files/fun_projects/fantasy_football_2024/venv/lib/python3.9/site-packages/pandas/core/groupby/grouper.py:1043\u001b[0m, in \u001b[0;36mget_grouper\u001b[0;34m(obj, key, axis, level, sort, observed, validate, dropna)\u001b[0m\n\u001b[1;32m   1041\u001b[0m         in_axis, level, gpr \u001b[38;5;241m=\u001b[39m \u001b[38;5;28;01mFalse\u001b[39;00m, gpr, \u001b[38;5;28;01mNone\u001b[39;00m\n\u001b[1;32m   1042\u001b[0m     \u001b[38;5;28;01melse\u001b[39;00m:\n\u001b[0;32m-> 1043\u001b[0m         \u001b[38;5;28;01mraise\u001b[39;00m \u001b[38;5;167;01mKeyError\u001b[39;00m(gpr)\n\u001b[1;32m   1044\u001b[0m \u001b[38;5;28;01melif\u001b[39;00m \u001b[38;5;28misinstance\u001b[39m(gpr, Grouper) \u001b[38;5;129;01mand\u001b[39;00m gpr\u001b[38;5;241m.\u001b[39mkey \u001b[38;5;129;01mis\u001b[39;00m \u001b[38;5;129;01mnot\u001b[39;00m \u001b[38;5;28;01mNone\u001b[39;00m:\n\u001b[1;32m   1045\u001b[0m     \u001b[38;5;66;03m# Add key to exclusions\u001b[39;00m\n\u001b[1;32m   1046\u001b[0m     exclusions\u001b[38;5;241m.\u001b[39madd(gpr\u001b[38;5;241m.\u001b[39mkey)\n",
      "\u001b[0;31mKeyError\u001b[0m: 'stat'"
     ]
    }
   ],
   "source": [
    "df_k = dict_projections[\"K\"].loc[:, [\"sleeper_id\", \"fpts\"]]\n",
    "df_k = df_k.apply(pd.to_numeric, errors='coerce')\n",
    "df_k_samples = pd.concat([sample_fp(df_k) for _ in range(5000)])\n",
    "\n",
    "# re-add the player name, team, and position\n",
    "df_k_samples = df_k_samples.merge(df_sleeper.loc[:, [\"sleeper_id\", \"full_name\", \"team\", \"position\"]], on=\"sleeper_id\")\n",
    "\n",
    "df_k_samples.to_csv(\"data/proj_bootstrap/k_proj_resamples.csv\", index=False)"
   ]
  },
  {
   "cell_type": "code",
   "execution_count": null,
   "metadata": {},
   "outputs": [],
   "source": [
    "df_def = dict_projections[\"DEF\"].loc[:, [\"sleeper_id\", \"fpts\"]]\n",
    "df_def = df_def.apply(pd.to_numeric, errors='coerce')\n",
    "df_def_samples = pd.concat([sample_fp(df_def) for _ in range(5000)])\n",
    "\n",
    "# re-add the player name, team, and position\n",
    "df_def_samples = df_def_samples.merge(df_sleeper.loc[:, [\"sleeper_id\", \"full_name\", \"team\", \"position\"]], on=\"sleeper_id\")\n",
    "\n",
    "df_def_samples.to_csv(\"data/proj_bootstrap/def_proj_resamples.csv\", index=False)\n"
   ]
  }
 ],
 "metadata": {
  "kernelspec": {
   "display_name": "venv",
   "language": "python",
   "name": "python3"
  },
  "language_info": {
   "codemirror_mode": {
    "name": "ipython",
    "version": 3
   },
   "file_extension": ".py",
   "mimetype": "text/x-python",
   "name": "python",
   "nbconvert_exporter": "python",
   "pygments_lexer": "ipython3",
   "version": "3.9.6"
  }
 },
 "nbformat": 4,
 "nbformat_minor": 2
}
